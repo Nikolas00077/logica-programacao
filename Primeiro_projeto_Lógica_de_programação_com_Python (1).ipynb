{
  "nbformat": 4,
  "nbformat_minor": 0,
  "metadata": {
    "colab": {
      "provenance": []
    },
    "kernelspec": {
      "name": "python3",
      "display_name": "Python 3"
    },
    "language_info": {
      "name": "python"
    }
  },
  "cells": [
    {
      "cell_type": "code",
      "source": [
        "def calculadora(): #Define uma função chamada calculadora para encapsular todo o código da sua calculadora.\n",
        "    historico_operacoes = [] #Cria uma lista vazia para armazenar o histórico de operações.\n",
        "\n",
        "    print(\"Selecione a operação:\") #O print inicial exibe as operações que o usuário pode escolher.\n",
        "    print(\"1. Adição (+)\")\n",
        "    print(\"2. Subtração (-)\")\n",
        "    print(\"3. Multiplicação (*)\")\n",
        "    print(\"4. Divisão (/)\")\n",
        "    print(\"5. Potencialização\")\n",
        "    print(\"6. Ver Histórico\")\n",
        "    print(\"7. Sair\")\n",
        "\n",
        "    while True: #Cria um laço infinito para que a calculadora continue funcionando até que o usuário decida sair.\n",
        "        escolha = input(\"Digite sua escolha (1/2/3/4/5/6/7): \")\n",
        "\n",
        "        if escolha in ('1', '2', '3', '4','5'):\n",
        "            try:\n",
        "                num1 = float(input(\"Digite o primeiro número: \"))\n",
        "                num2 = float(input(\"Digite o segundo número: \"))\n",
        "            except ValueError:\n",
        "                print(\"Entrada inválida. Por favor, digite números.\")\n",
        "                continue\n",
        "\n",
        "            resultado = None  # Variável para armazenar o resultado da operação\n",
        "            operacao_str = \"\"  # Variável para armazenar a operação em formato de string\n",
        "\n",
        "            if escolha == '1':\n",
        "                resultado = num1 + num2\n",
        "                operacao_str = f\"{num1} + {num2}\"\n",
        "            elif escolha == '2':\n",
        "                resultado = num1 - num2\n",
        "                operacao_str = f\"{num1} - {num2}\"\n",
        "            elif escolha == '3':\n",
        "                resultado = num1 * num2\n",
        "                operacao_str = f\"{num1} * {num2}\"\n",
        "            elif escolha == '4':\n",
        "                if num2 == 0:\n",
        "                    print(\"Erro! Divisão por zero não é permitida.\")\n",
        "                    continue # Volta para o início do loop sem armazenar no histórico\n",
        "                else:\n",
        "                    resultado = num1 / num2\n",
        "                    operacao_str = f\"{num1} / {num2}\"\n",
        "            elif escolha == '5':\n",
        "                resultado = num1 ** num2\n",
        "                operacao_str = f\"{num1} ** {num2}\"\n",
        "\n",
        "            if resultado is not None: # Apenas adiciona ao histórico se a operação foi bem-sucedida\n",
        "                print(f\"{operacao_str} = {resultado}\") # Exibe o resultado atual\n",
        "                historico_operacoes.append(f\"{operacao_str} = {resultado}\") #Armazena a operação no histórico\n",
        "\n",
        "        elif escolha == '6': # Nova opção para ver o histórico\n",
        "            if not historico_operacoes: # Verifica se a lista está vazia\n",
        "                print(\"O histórico de operações está vazio.\")\n",
        "            else:\n",
        "                print(\"\\n--- Histórico de Operações ---\")\n",
        "                for item in historico_operacoes:\n",
        "                    print(item)\n",
        "                print(\"-----------------------------\\n\")\n",
        "\n",
        "\n",
        "\n",
        "        elif escolha == '7':\n",
        "            print(\"Saindo da calculadora. Até mais!\")\n",
        "            break\n",
        "        else:\n",
        "            print(\"Opção inválida. Por favor, tente novamente.\")\n",
        "\n",
        "# Chama a função da calculadora\n",
        "calculadora()"
      ],
      "metadata": {
        "colab": {
          "base_uri": "https://localhost:8080/"
        },
        "id": "pTwsNNy3OX8y",
        "outputId": "25df1ad4-cf44-4f7c-c697-be4bde28ee3c"
      },
      "execution_count": null,
      "outputs": [
        {
          "output_type": "stream",
          "name": "stdout",
          "text": [
            "Selecione a operação:\n",
            "1. Adição (+)\n",
            "2. Subtração (-)\n",
            "3. Multiplicação (*)\n",
            "4. Divisão (/)\n",
            "5. Potencialização\n",
            "6. Ver Histórico\n",
            "7. Sair\n",
            "Digite sua escolha (1/2/3/4/5/6/7): 6\n",
            "O histórico de operações está vazio.\n",
            "Digite sua escolha (1/2/3/4/5/6/7): 5\n",
            "Digite o primeiro número: 5\n",
            "Digite o segundo número: 2\n",
            "5.0 ** 2.0 = 25.0\n",
            "Digite sua escolha (1/2/3/4/5/6/7): 7\n",
            "Saindo da calculadora. Até mais!\n"
          ]
        }
      ]
    }
  ]
}